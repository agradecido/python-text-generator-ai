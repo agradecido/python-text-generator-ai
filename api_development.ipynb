{
 "cells": [
  {
   "cell_type": "markdown",
   "metadata": {},
   "source": []
  },
  {
   "cell_type": "markdown",
   "metadata": {},
   "source": [
    "# Flask API to generate text with ChatGPT"
   ]
  },
  {
   "cell_type": "code",
   "execution_count": null,
   "metadata": {},
   "outputs": [],
   "source": [
    "## Import libraries and load env vars\n",
    "import openai\n",
    "from openai import AsyncOpenAI, OpenAI\n",
    "from flask import Flask, request, jsonify\n",
    "import os\n",
    "from dotenv import load_dotenv\n",
    "from flask_jwt_extended import JWTManager, create_access_token, jwt_required, get_jwt_identity\n",
    "import os\n",
    "\n",
    "load_dotenv()"
   ]
  },
  {
   "cell_type": "code",
   "execution_count": null,
   "metadata": {},
   "outputs": [],
   "source": [
    "# Read the prompts from JSON file\n",
    "import json\n",
    "\n",
    "with open(os.getenv(\"PROMPT_FILE_PATH\"), 'r') as file:\n",
    "    prompts = json.load(file)\n"
   ]
  },
  {
   "cell_type": "markdown",
   "metadata": {},
   "source": [
    "## Create a API Endpoint \n",
    "### Request example\n",
    "\n",
    "```json\n",
    "{\n",
    "    \"prompt\": \"We are going to create a page about a product to try to sell it on an affiliate market and make a profit. Generate 2 paragraphs (about 1000 words each of them) for this product based on the following keywords, the first one is the product: \",\n",
    "    \"keywords\": \"'Chaqueta de cuero', 'Rock', 'ropa', 'chupa de cuero', 'calidad', 'precio'\",\n",
    "    \"system-role\": \"Act as you are a helpful assistant for SEO purposes. You will only give the content of the requested text, without intros or outros. You will speak only in ESPAÑOL with a SPAIN PEOPLE accent.\"\n",
    "}\n",
    "```\n"
   ]
  },
  {
   "cell_type": "code",
   "execution_count": null,
   "metadata": {},
   "outputs": [],
   "source": [
    "client = OpenAI(api_key=os.getenv(\"OPENAI_API_KEY\"), project=os.getenv(\"OPENAI_PROJECT_ID\"))\n",
    "\n",
    "app = Flask(__name__)\n",
    "\n",
    "# Config JWT\n",
    "app.config['JWT_SECRET_KEY'] = os.getenv('JWT_SECRET_KEY')\n",
    "app.config['JWT_ACCESS_TOKEN_EXPIRES'] = int(os.getenv('JWT_ACCESS_TOKEN_EXPIRES'))\n",
    "jwt = JWTManager(app)\n",
    "\n",
    "# Auth endpoint\n",
    "@app.route('/login', methods=['POST'])\n",
    "def login():\n",
    "    username = request.json.get(\"username\", None)\n",
    "    password = request.json.get(\"password\", None)\n",
    "\n",
    "    # Check username and password\n",
    "    if username != \"testuser\" or password != \"testpassword\":\n",
    "        return jsonify({\"msg\": \"Bad username or password\"}), 401\n",
    "\n",
    "    # Crea un nuevo token de acceso\n",
    "    access_token = create_access_token(identity=username)\n",
    "    return jsonify(access_token=access_token)\n",
    "\n",
    "# Text generation endpoint\n",
    "@app.route('/generate-text', methods=['POST'])\n",
    "@jwt_required()\n",
    "def generate_text():\n",
    "    try:\n",
    "        response = client.chat.completions.create(\n",
    "            model=os.getenv(\"OPENAI_MODEL\", \"gpt-3.5-turbo\"),\n",
    "            messages=[\n",
    "                {\"role\": \"system\", \"content\": request.json[\"system-role\"]},\n",
    "                {\"role\": \"user\", \"content\": request.json[\"prompt\"] + \" \" + request.json[\"keywords\"]},\n",
    "            ],\n",
    "            # max_tokens=int(os.getenv(\"OPENAI_MAX_TOKENS\")),\n",
    "            n=1,\n",
    "            stop=None,\n",
    "            temperature=float(os.getenv(\"OPENAI_TEMPERATURE\")),\n",
    "        )\n",
    "        generated_text = response.choices[0].message.content.strip()\n",
    "\n",
    "        return jsonify({'text': generated_text, 'prompt': request.json[\"prompt\"]})\n",
    "    except Exception as e:\n",
    "        return jsonify({'error': str(e)}), 500"
   ]
  },
  {
   "cell_type": "code",
   "execution_count": null,
   "metadata": {},
   "outputs": [],
   "source": [
    "if __name__ == '__main__':\n",
    "    app.run(host=os.getenv(\"API_HOST\", \"0.0.0.0\"), port=int(os.getenv(\"API_PORT\", 5000)))"
   ]
  },
  {
   "cell_type": "markdown",
   "metadata": {},
   "source": []
  }
 ],
 "metadata": {
  "kernelspec": {
   "display_name": ".venv",
   "language": "python",
   "name": "python3"
  },
  "language_info": {
   "codemirror_mode": {
    "name": "ipython",
    "version": 3
   },
   "file_extension": ".py",
   "mimetype": "text/x-python",
   "name": "python",
   "nbconvert_exporter": "python",
   "pygments_lexer": "ipython3",
   "version": "3.11.2"
  }
 },
 "nbformat": 4,
 "nbformat_minor": 2
}
