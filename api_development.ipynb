{
 "cells": [
  {
   "cell_type": "markdown",
   "metadata": {},
   "source": [
    "## Import libraries and load env vars"
   ]
  },
  {
   "cell_type": "code",
   "execution_count": 333,
   "metadata": {},
   "outputs": [
    {
     "data": {
      "text/plain": [
       "True"
      ]
     },
     "execution_count": 333,
     "metadata": {},
     "output_type": "execute_result"
    }
   ],
   "source": [
    "import openai\n",
    "from openai import AsyncOpenAI, OpenAI\n",
    "from flask import Flask, request, jsonify\n",
    "import os\n",
    "from dotenv import load_dotenv\n",
    "\n",
    "load_dotenv()\n"
   ]
  },
  {
   "cell_type": "markdown",
   "metadata": {},
   "source": [
    "## Read the prompts from JSON file"
   ]
  },
  {
   "cell_type": "code",
   "execution_count": 334,
   "metadata": {},
   "outputs": [],
   "source": [
    "import json\n",
    "\n",
    "with open(os.getenv(\"PROMPT_FILE_PATH\"), 'r') as file:\n",
    "    prompts = json.load(file)\n"
   ]
  },
  {
   "cell_type": "markdown",
   "metadata": {},
   "source": [
    "## Create a API Endpoint \n",
    "### Request example\n",
    "\n",
    "```json\n",
    "{\n",
    "    \"prompt\": \"We are going to create a page about a product to try to sell it on an affiliate market and make a profit. Generate 2 paragraphs (about 1000 words each of them) for this product based on the following keywords, the first one is the product: \",\n",
    "    \"keywords\": \"'Chaqueta de cuero', 'Rock', 'ropa', 'chupa de cuero', 'calidad', 'precio'\",\n",
    "    \"system-role\": \"Act as you are a helpful assistant for SEO purposes. You will only give the content of the requested text, without intros or outros. You will speak only in ESPAÑOL with a SPAIN PEOPLE accent.\"\n",
    "}\n",
    "```\n"
   ]
  },
  {
   "cell_type": "markdown",
   "metadata": {},
   "source": [
    "## Flask API"
   ]
  },
  {
   "cell_type": "code",
   "execution_count": 335,
   "metadata": {},
   "outputs": [
    {
     "name": "stdout",
     "output_type": "stream",
     "text": [
      " * Serving Flask app '__main__'\n",
      " * Debug mode: on\n"
     ]
    },
    {
     "name": "stderr",
     "output_type": "stream",
     "text": [
      "\u001b[31m\u001b[1mWARNING: This is a development server. Do not use it in a production deployment. Use a production WSGI server instead.\u001b[0m\n",
      " * Running on all addresses (0.0.0.0)\n",
      " * Running on http://127.0.0.1:5000\n",
      " * Running on http://192.168.0.170:5000\n",
      "\u001b[33mPress CTRL+C to quit\u001b[0m\n",
      " * Restarting with stat\n",
      "Traceback (most recent call last):\n",
      "  File \"/home/javi/sites/python/python-text-generator-ai/.venv/lib/python3.11/site-packages/debugpy/_vendored/pydevd/pydevd.py\", line 3489, in <module>\n",
      "    main()\n",
      "  File \"/home/javi/sites/python/python-text-generator-ai/.venv/lib/python3.11/site-packages/debugpy/_vendored/pydevd/pydevd.py\", line 3482, in main\n",
      "    globals = debugger.run(setup['file'], None, None, is_module)\n",
      "              ^^^^^^^^^^^^^^^^^^^^^^^^^^^^^^^^^^^^^^^^^^^^^^^^^^\n",
      "  File \"/home/javi/sites/python/python-text-generator-ai/.venv/lib/python3.11/site-packages/debugpy/_vendored/pydevd/pydevd.py\", line 2510, in run\n",
      "    return self._exec(is_module, entry_point_fn, module_name, file, globals, locals)\n",
      "           ^^^^^^^^^^^^^^^^^^^^^^^^^^^^^^^^^^^^^^^^^^^^^^^^^^^^^^^^^^^^^^^^^^^^^^^^^\n",
      "  File \"/home/javi/sites/python/python-text-generator-ai/.venv/lib/python3.11/site-packages/debugpy/_vendored/pydevd/pydevd.py\", line 2528, in _exec\n",
      "    globals = pydevd_runpy._run_module_as_main(module_name, alter_argv=False)\n",
      "              ^^^^^^^^^^^^^^^^^^^^^^^^^^^^^^^^^^^^^^^^^^^^^^^^^^^^^^^^^^^^^^^\n",
      "  File \"/home/javi/sites/python/python-text-generator-ai/.venv/lib/python3.11/site-packages/debugpy/_vendored/pydevd/_pydevd_bundle/pydevd_runpy.py\", line 238, in _run_module_as_main\n",
      "    return _run_code(code, main_globals, None,\n",
      "           ^^^^^^^^^^^^^^^^^^^^^^^^^^^^^^^^^^^\n",
      "  File \"/home/javi/sites/python/python-text-generator-ai/.venv/lib/python3.11/site-packages/debugpy/_vendored/pydevd/_pydevd_bundle/pydevd_runpy.py\", line 124, in _run_code\n",
      "    exec(code, run_globals)\n",
      "  File \"/home/javi/sites/python/python-text-generator-ai/.venv/lib/python3.11/site-packages/ipykernel_launcher.py\", line 18, in <module>\n",
      "    app.launch_new_instance()\n",
      "  File \"/home/javi/sites/python/python-text-generator-ai/.venv/lib/python3.11/site-packages/traitlets/config/application.py\", line 1074, in launch_instance\n",
      "    app.initialize(argv)\n",
      "  File \"/home/javi/sites/python/python-text-generator-ai/.venv/lib/python3.11/site-packages/traitlets/config/application.py\", line 118, in inner\n",
      "    return method(app, *args, **kwargs)\n",
      "           ^^^^^^^^^^^^^^^^^^^^^^^^^^^^\n",
      "  File \"/home/javi/sites/python/python-text-generator-ai/.venv/lib/python3.11/site-packages/ipykernel/kernelapp.py\", line 692, in initialize\n",
      "    self.init_sockets()\n",
      "  File \"/home/javi/sites/python/python-text-generator-ai/.venv/lib/python3.11/site-packages/ipykernel/kernelapp.py\", line 331, in init_sockets\n",
      "    self.shell_port = self._bind_socket(self.shell_socket, self.shell_port)\n",
      "                      ^^^^^^^^^^^^^^^^^^^^^^^^^^^^^^^^^^^^^^^^^^^^^^^^^^^^^\n",
      "  File \"/home/javi/sites/python/python-text-generator-ai/.venv/lib/python3.11/site-packages/ipykernel/kernelapp.py\", line 253, in _bind_socket\n",
      "    return self._try_bind_socket(s, port)\n",
      "           ^^^^^^^^^^^^^^^^^^^^^^^^^^^^^^\n",
      "  File \"/home/javi/sites/python/python-text-generator-ai/.venv/lib/python3.11/site-packages/ipykernel/kernelapp.py\", line 229, in _try_bind_socket\n",
      "    s.bind(\"tcp://%s:%i\" % (self.ip, port))\n",
      "  File \"/home/javi/sites/python/python-text-generator-ai/.venv/lib/python3.11/site-packages/zmq/sugar/socket.py\", line 311, in bind\n",
      "    super().bind(addr)\n",
      "  File \"_zmq.py\", line 917, in zmq.backend.cython._zmq.Socket.bind\n",
      "  File \"_zmq.py\", line 179, in zmq.backend.cython._zmq._check_rc\n",
      "zmq.error.ZMQError: Address already in use (addr='tcp://127.0.0.1:9003')\n"
     ]
    },
    {
     "ename": "SystemExit",
     "evalue": "1",
     "output_type": "error",
     "traceback": [
      "An exception has occurred, use %tb to see the full traceback.\n",
      "\u001b[0;31mSystemExit\u001b[0m\u001b[0;31m:\u001b[0m 1\n"
     ]
    }
   ],
   "source": [
    "app = Flask(__name__)\n",
    "\n",
    "client = OpenAI(api_key=os.getenv(\"OPENAI_API_KEY\"), project=os.getenv(\"OPENAI_PROJECT_ID\"))\n",
    "\n",
    "@app.route('/generate-text', methods=['POST'])\n",
    "\n",
    "def generate_text():\n",
    "\n",
    "    try:\n",
    "        response = client.chat.completions.create(\n",
    "            model=os.getenv(\"OPENAI_MODEL\", \"gpt-3.5-turbo\"),\n",
    "            messages=[\n",
    "                {\"role\": \"system\", \"content\": request.json[\"system-role\"]},\n",
    "                {\"role\": \"user\", \"content\": request.json[\"prompt\"] + \" \" + request.json[\"keywords\"]},\n",
    "            ],\n",
    "            # max_tokens=int(os.getenv(\"OPENAI_MAX_TOKENS\")),\n",
    "            n=1,\n",
    "            stop=None,\n",
    "            temperature=float(os.getenv(\"OPENAI_TEMPERATURE\")),\n",
    "        )\n",
    "        generated_text = response.choices[0].message.content.strip()\n",
    "\n",
    "        return jsonify({'text': generated_text, 'prompt': request.json[\"prompt\"]})\n",
    "    except Exception as e:\n",
    "        return jsonify({'error': str(e)}), 500\n",
    "\n",
    "if __name__ == '__main__':\n",
    "    app.run(host=os.getenv(\"API_HOST\", \"0.0.0.0\"), port=int(os.getenv(\"API_PORT\", 5000)))\n"
   ]
  },
  {
   "cell_type": "code",
   "execution_count": null,
   "metadata": {},
   "outputs": [],
   "source": []
  }
 ],
 "metadata": {
  "kernelspec": {
   "display_name": ".venv",
   "language": "python",
   "name": "python3"
  },
  "language_info": {
   "codemirror_mode": {
    "name": "ipython",
    "version": 3
   },
   "file_extension": ".py",
   "mimetype": "text/x-python",
   "name": "python",
   "nbconvert_exporter": "python",
   "pygments_lexer": "ipython3",
   "version": "3.11.2"
  }
 },
 "nbformat": 4,
 "nbformat_minor": 2
}
